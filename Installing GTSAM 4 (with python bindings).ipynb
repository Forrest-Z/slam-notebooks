{
 "cells": [
  {
   "cell_type": "markdown",
   "metadata": {},
   "source": [
    "# GTSAM 4.0\n",
    "\n",
    "## Install\n",
    "\n",
    "First install all dependencies.\n",
    "\n",
    "\n",
    "```bash\n",
    "sudo apt-get install cmake libboost-all-dev libtbb-dev git python-dev\n",
    "```\n",
    "\n",
    "\n",
    "Clone the repository into your checkout folder.\n",
    "\n",
    "```bash\n",
    "git clone https://bitbucket.org/gtborg/gtsam.git\n",
    "cd gtsam\n",
    "```\n",
    "\n",
    "Then create a build folder and execute cmake.\n",
    "\n",
    "```bash\n",
    "mkdir build\n",
    "cd build\n",
    "cmake -DGTSAM_BUILD_PYTHON=ON -DGTSAM_ALLOW_DEPRECATED_SINCE_V4=OFF ..\n",
    "```\n",
    "\n",
    "Now make the project.\n",
    "\n",
    "```bash\n",
    "make check\n",
    "sudo make install\n",
    "sudo ldconfig\n",
    "```\n",
    "\n",
    "Manual mending\n",
    "\n",
    "```bash\n",
    "sudo cp python/gtsam/_libgtsam_python.so /usr/local/lib/python2.7/dist-packages/gtsam/gtsampy.so\n",
    "```\n",
    "\n",
    "## Try it\n",
    "\n",
    "Now let's try gtsam:"
   ]
  },
  {
   "cell_type": "code",
   "execution_count": 1,
   "metadata": {
    "collapsed": false
   },
   "outputs": [
    {
     "name": "stderr",
     "output_type": "stream",
     "text": [
      "/usr/local/lib/python2.7/dist-packages/gtsam/__init__.py:1: RuntimeWarning: to-Python converter for boost::shared_ptr<gtsam::Cal3_S2> already registered; second conversion method ignored.\n",
      "  from gtsampy import *\n"
     ]
    }
   ],
   "source": [
    "import gtsam"
   ]
  },
  {
   "cell_type": "code",
   "execution_count": 2,
   "metadata": {
    "collapsed": true
   },
   "outputs": [],
   "source": [
    "#!/usr/bin/env python\n",
    "from __future__ import print_function\n",
    "import gtsam\n",
    "import numpy as np\n",
    "  \n",
    "# Create an empty nonlinear factor graph\n",
    "graph = gtsam.NonlinearFactorGraph()\n",
    "  \n",
    "# Add a prior on the first pose, setting it to the origin\n",
    "# A prior factor consists of a mean and a noise model (covariance matrix)\n",
    "priorMean = gtsam.Pose2(0.0, 0.0, 0.0)  # prior at origin\n",
    "priorNoise = gtsam.noiseModel.Diagonal.Sigmas(np.array([0.3, 0.3, 0.1]))\n",
    "graph.add(gtsam.PriorFactorPose2(1, priorMean, priorNoise))\n",
    "  \n",
    "# Add odometry factors\n",
    "odometry = gtsam.Pose2(2.0, 0.0, 0.0)\n",
    "# For simplicity, we will use the same noise model for each odometry factor\n",
    "odometryNoise = gtsam.noiseModel.Diagonal.Sigmas(np.array([0.2, 0.2, 0.1]))\n",
    "# Create odometry (Between) factors between consecutive poses\n",
    "graph.add(gtsam.BetweenFactorPose2(1, 2, odometry, odometryNoise))\n",
    "graph.add(gtsam.BetweenFactorPose2(2, 3, odometry, odometryNoise))\n",
    "graph.print(\"\\nFactor Graph:\\n\")\n",
    "  \n",
    "# Create the data structure to hold the initialEstimate estimate to the solution\n",
    "# For illustrative purposes, these have been deliberately set to incorrect values\n",
    "initial = gtsam.Values()\n",
    "initial.insert(1, gtsam.Pose2(0.5, 0.0, 0.2))\n",
    "initial.insert(2, gtsam.Pose2(2.3, 0.1, -0.2))\n",
    "initial.insert(3, gtsam.Pose2(4.1, 0.1, 0.1))\n",
    "initial.print(\"\\nInitial Estimate:\\n\")\n",
    "  \n",
    "# optimize using Levenberg-Marquardt optimization\n",
    "params = gtsam.LevenbergMarquardtParams()\n",
    "optimizer = gtsam.LevenbergMarquardtOptimizer(graph, initial, params)\n",
    "result = optimizer.optimize()\n",
    "result.print(\"\\nFinal Result:\\n\")\n"
   ]
  },
  {
   "cell_type": "markdown",
   "metadata": {},
   "source": [
    "Unfortunately gtsam does not seem as if it likes python notebooks.\n",
    "\n",
    "## No notebook support\n",
    "\n",
    "So it is time to switch to a normal python console..."
   ]
  }
 ],
 "metadata": {
  "kernelspec": {
   "display_name": "Python 2",
   "language": "python",
   "name": "python2"
  },
  "language_info": {
   "codemirror_mode": {
    "name": "ipython",
    "version": 2
   },
   "file_extension": ".py",
   "mimetype": "text/x-python",
   "name": "python",
   "nbconvert_exporter": "python",
   "pygments_lexer": "ipython2",
   "version": "2.7.12"
  }
 },
 "nbformat": 4,
 "nbformat_minor": 2
}
