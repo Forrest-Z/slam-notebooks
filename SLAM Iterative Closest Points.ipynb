{
 "cells": [
  {
   "cell_type": "markdown",
   "metadata": {},
   "source": [
    "# SLAM: Iterative Closest Points (ICP)\n",
    "\n",
    "## Concept\n",
    "\n",
    "1. Predict the motion of the robot using odometry (dead reckoning).\n",
    "2. Find the closest solid point to the laserscan measurement in the map. (matching: laserscan_point->map_point)\n",
    "3. Calculate 'Feature Transform' $t_{ft}$ for matching\n",
    "4. Apply $t_{ft}$\n",
    "5. Go back to step 2 until done $k$-times.\n",
    "6. Insert scan into map with calculated pose\n",
    "7. Goto next scan and start over at 1.\n",
    "\n",
    "## Pros\n",
    "\n",
    "* Works even without prediction, when motion between two scans is small.\n",
    "* More or less only uses scanner\n",
    "* Map has high quality and is clean (because laserscans are matched to fit best into existing map)\n",
    "\n",
    "## Cons\n",
    "\n",
    "* Needs good laserscans\n",
    "* Can get stuck in local minima\n",
    "* More or less only uses scanner"
   ]
  },
  {
   "cell_type": "code",
   "execution_count": null,
   "metadata": {
    "collapsed": true
   },
   "outputs": [],
   "source": []
  }
 ],
 "metadata": {
  "kernelspec": {
   "display_name": "Python 2",
   "language": "python",
   "name": "python2"
  },
  "language_info": {
   "codemirror_mode": {
    "name": "ipython",
    "version": 2
   },
   "file_extension": ".py",
   "mimetype": "text/x-python",
   "name": "python",
   "nbconvert_exporter": "python",
   "pygments_lexer": "ipython2",
   "version": "2.7.12"
  }
 },
 "nbformat": 4,
 "nbformat_minor": 2
}
