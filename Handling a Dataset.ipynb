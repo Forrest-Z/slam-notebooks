{
 "cells": [
  {
   "cell_type": "markdown",
   "metadata": {},
   "source": [
    "# Handling a SLAM dataset\n",
    "\n",
    "The art of creating and handling a slam dataset for evaluation."
   ]
  },
  {
   "cell_type": "code",
   "execution_count": 1,
   "metadata": {
    "collapsed": false
   },
   "outputs": [],
   "source": [
    "import sys\n",
    "import numpy as np\n",
    "from slamlib.dataset import Dataset, Playback"
   ]
  },
  {
   "cell_type": "markdown",
   "metadata": {},
   "source": [
    "# Dataset Loader\n",
    "\n",
    "To test and evaluate the stuff a test dataset is required. This dataset is provided by the slam_dataset.npz file.\n",
    "\n",
    "```\n",
    "\"scanners\": [0,1,...]\n",
    "\"scanner_0\": [scannerparams]\n",
    "\"scanner_0_scans\": [[scan], [scan], ...]\n",
    "...\n",
    "```\n",
    "\n",
    "\n",
    "So let's simply write a wrapper, that should make the things more clear."
   ]
  },
  {
   "cell_type": "code",
   "execution_count": 2,
   "metadata": {
    "collapsed": false
   },
   "outputs": [],
   "source": [
    "dataset = Dataset()\n",
    "dataset.load(\"slam_dataset.npz\")"
   ]
  },
  {
   "cell_type": "markdown",
   "metadata": {},
   "source": [
    "Ok let's have a look at the dataset."
   ]
  },
  {
   "cell_type": "code",
   "execution_count": 3,
   "metadata": {
    "collapsed": false,
    "scrolled": true
   },
   "outputs": [
    {
     "name": "stdout",
     "output_type": "stream",
     "text": [
      "Scanners:\n",
      "['1' '0']\n",
      "Scanner_0 number of scans:\n",
      "2594\n",
      "\n",
      "Scanner_0 info:\n",
      "{\n",
      "  \"angle_per_scan\": 0.249768732655,\n",
      "  \"number_of_scans\": 1081,\n",
      "  \"relative_to_base_link\": {\"x\":0.0, \"y\":0.0,\"theta\":0.0}\n",
      "}\n",
      "\n",
      "Pose 2:\n",
      "{\"x\":-0.0324236303804, \"y\":0.091908926369,\"theta\":1.91715394945}\n",
      "\n",
      "Scanner 0, Scan 2:\n",
      "{\n",
      "  \"time\": 1475170094263922427,\n",
      "  \"data\": (4.394999980926514, 4.361000061035156, 4.320000171661377, 4.307000160217285),\n",
      "  \"scanner\": {\n",
      "    \"angle_per_scan\": 0.249768732655,\n",
      "    \"number_of_scans\": 1081,\n",
      "    \"relative_to_base_link\": {\"x\":0.0, \"y\":0.0,\"theta\":0.0}\n",
      "  }\n",
      "}\n"
     ]
    }
   ],
   "source": [
    "print(\"Scanners:\")\n",
    "print(dataset.get_scanners())\n",
    "print(\"Scanner_0 number of scans:\")\n",
    "print(dataset.get_laserscan_number(0))\n",
    "print(\"\")\n",
    "print(\"Scanner_0 info:\")\n",
    "print(dataset.get_scanner_info(0).to_str())\n",
    "print(\"\")\n",
    "print(\"Pose 2:\")\n",
    "print(dataset.get_pose(2)[1].to_str())\n",
    "print(\"\")\n",
    "print(\"Scanner 0, Scan 2:\")\n",
    "print(dataset.get_laserscan(0, 2).to_str())"
   ]
  },
  {
   "cell_type": "markdown",
   "metadata": {},
   "source": [
    "# Playing around with the dataset\n",
    "\n",
    "A playback can tick the dataset so we get the content ordered by time and type."
   ]
  },
  {
   "cell_type": "code",
   "execution_count": 4,
   "metadata": {
    "collapsed": false,
    "scrolled": true
   },
   "outputs": [
    {
     "name": "stdout",
     "output_type": "stream",
     "text": [
      "Got a scan!\n",
      "Got a scan!\n",
      "Got a pose!\n",
      "Got a pose!\n",
      "Got a scan!\n",
      "Got a scan!\n",
      "Got a pose!\n",
      "Got a scan!\n",
      "Got a pose!\n",
      "Got a pose!\n"
     ]
    }
   ],
   "source": [
    "def on_scan(scan):\n",
    "    print(\"Got a scan!\")\n",
    "    \n",
    "def on_pose(data):\n",
    "    time, pose = data\n",
    "    print(\"Got a pose!\")\n",
    "    \n",
    "playback = Playback(dataset, on_scan, on_pose)\n",
    "\n",
    "err = False\n",
    "for i in range(10):\n",
    "    if not playback.tick():\n",
    "        print(\"Not enough events in dataset in iteration \" + str(i) + \".\")\n",
    "        break"
   ]
  },
  {
   "cell_type": "code",
   "execution_count": null,
   "metadata": {
    "collapsed": true
   },
   "outputs": [],
   "source": []
  }
 ],
 "metadata": {
  "kernelspec": {
   "display_name": "Python 2",
   "language": "python",
   "name": "python2"
  },
  "language_info": {
   "codemirror_mode": {
    "name": "ipython",
    "version": 2
   },
   "file_extension": ".py",
   "mimetype": "text/x-python",
   "name": "python",
   "nbconvert_exporter": "python",
   "pygments_lexer": "ipython2",
   "version": "2.7.12"
  }
 },
 "nbformat": 4,
 "nbformat_minor": 2
}
