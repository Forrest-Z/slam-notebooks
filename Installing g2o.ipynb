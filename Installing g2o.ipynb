{
 "cells": [
  {
   "cell_type": "markdown",
   "metadata": {},
   "source": [
    "# g2o\n",
    "\n",
    "Install dependencies\n",
    "\n",
    "```bash\n",
    "sudo apt-get install cmake libeigen3-dev libsuoteparse-dev qtdeclarative5-dev qt5-qmake libqglviewer-dev\n",
    "```\n",
    "\n",
    "Clone\n",
    "\n",
    "```bash\n",
    "git clone https://github.com/RainerKuemmerle/g2o.git\n",
    "cd g2o\n",
    "```\n",
    "\n",
    "Compile\n",
    "\n",
    "\n",
    "```bash\n",
    "mkdir build\n",
    "cd build\n",
    "cmake ../\n",
    "make\n",
    "```"
   ]
  },
  {
   "cell_type": "code",
   "execution_count": null,
   "metadata": {
    "collapsed": true
   },
   "outputs": [],
   "source": []
  }
 ],
 "metadata": {
  "kernelspec": {
   "display_name": "Python 2",
   "language": "python",
   "name": "python2"
  },
  "language_info": {
   "codemirror_mode": {
    "name": "ipython",
    "version": 2
   },
   "file_extension": ".py",
   "mimetype": "text/x-python",
   "name": "python",
   "nbconvert_exporter": "python",
   "pygments_lexer": "ipython2",
   "version": "2.7.12"
  }
 },
 "nbformat": 4,
 "nbformat_minor": 2
}
